{
 "cells": [
  {
   "cell_type": "markdown",
   "metadata": {},
   "source": [
    "## 1 Dimensional Mass"
   ]
  },
  {
   "cell_type": "code",
   "execution_count": 1,
   "metadata": {},
   "outputs": [
    {
     "data": {
      "image/png": "[encoded data removed]",
      "text/latex": [
       "$\\displaystyle \\left\\{ \\int\\limits_{0}^{100} \\left(0.03 - 0.0003 x\\right)\\, dx : 1.5\\right\\}$"
      ],
      "text/plain": [
       "⎧100                          ⎫\n",
       "⎪ ⌠                           ⎪\n",
       "⎨ ⎮  (0.03 - 0.0003⋅x) dx: 1.5⎬\n",
       "⎪ ⌡                           ⎪\n",
       "⎩ 0                           ⎭"
      ]
     },
     "execution_count": 1,
     "metadata": {},
     "output_type": "execute_result"
    }
   ],
   "source": [
    "from sympy import *\n",
    "\n",
    "# Make output look nice\n",
    "init_printing()\n",
    "\n",
    "# Variable Declaration\n",
    "x = Symbol('x')\n",
    "L = 100\n",
    "\n",
    "# Linear Mass Density Equation\n",
    "lambda_of_x = (0.030)*(1 - (x/L))\n",
    "\n",
    "# Limits of integration\n",
    "a = 0\n",
    "b = L\n",
    "\n",
    "# Compute mass of object over the specified interval (a to b)\n",
    "mass = integrate(lambda_of_x, (x, a, b))\n",
    "\n",
    "# Display original equation and answer\n",
    "{Integral(lambda_of_x, (x, a, b)): mass}"
   ]
  },
  {
   "cell_type": "markdown",
   "metadata": {},
   "source": [
    "---"
   ]
  }
 ],
 "metadata": {
  "interpreter": {
   "hash": "765f0e6a717cdef1b96705705fe4f7f20bca40e4a56da864daf3394675fda3ca"
  },
  "kernelspec": {
   "display_name": "Python 3.9.6 64-bit",
   "name": "python3"
  },
  "language_info": {
   "codemirror_mode": {
    "name": "ipython",
    "version": 3
   },
   "file_extension": ".py",
   "mimetype": "text/x-python",
   "name": "python",
   "nbconvert_exporter": "python",
   "pygments_lexer": "ipython3",
   "version": "3.9.6"
  },
  "orig_nbformat": 4
 },
 "nbformat": 4,
 "nbformat_minor": 2
}
