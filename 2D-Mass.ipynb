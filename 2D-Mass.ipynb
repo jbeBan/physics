{
 "cells": [
  {
   "cell_type": "markdown",
   "metadata": {},
   "source": [
    "## 2 Dimensional Mass (Circle)"
   ]
  },
  {
   "cell_type": "code",
   "execution_count": 1,
   "metadata": {},
   "outputs": [
    {
     "data": {
      "image/png": "[encoded data removed]",
      "text/latex": [
       "$\\displaystyle \\left\\{ \\int\\limits_{0}^{0.3} 1000.0 \\pi r^{3}\\, dr : 2.025 \\pi\\right\\}$"
      ],
      "text/plain": [
       "⎧0.3                        ⎫\n",
       "⎪ ⌠                         ⎪\n",
       "⎪ ⎮            3            ⎪\n",
       "⎨ ⎮  1000.0⋅π⋅r  dr: 2.025⋅π⎬\n",
       "⎪ ⌡                         ⎪\n",
       "⎪ 0                         ⎪\n",
       "⎩                           ⎭"
      ]
     },
     "execution_count": 1,
     "metadata": {},
     "output_type": "execute_result"
    }
   ],
   "source": [
    "from sympy import *\n",
    "\n",
    "# Make output look nice\n",
    "init_printing()\n",
    "\n",
    "# Variable Declaration\n",
    "r = Symbol('r')\n",
    "R = 0.30\n",
    "dA = 2*pi*r\n",
    "\n",
    "# Area Mass Density Equation\n",
    "sigma_of_r = (45.0)*((r/R)**2)*dA\n",
    "\n",
    "# Limits of integration\n",
    "a = 0\n",
    "b = R\n",
    "\n",
    "# Compute mass of object over the specified interval (a to b)\n",
    "mass = integrate(sigma_of_r, (r, a, b))\n",
    "\n",
    "# Display original equation and answer\n",
    "{Integral(sigma_of_r, (r, a, b)): mass}"
   ]
  },
  {
   "cell_type": "markdown",
   "metadata": {},
   "source": [
    "---"
   ]
  }
 ],
 "metadata": {
  "interpreter": {
   "hash": "765f0e6a717cdef1b96705705fe4f7f20bca40e4a56da864daf3394675fda3ca"
  },
  "kernelspec": {
   "display_name": "Python 3.9.6 64-bit",
   "name": "python3"
  },
  "language_info": {
   "codemirror_mode": {
    "name": "ipython",
    "version": 3
   },
   "file_extension": ".py",
   "mimetype": "text/x-python",
   "name": "python",
   "nbconvert_exporter": "python",
   "pygments_lexer": "ipython3",
   "version": "3.9.6"
  },
  "orig_nbformat": 4
 },
 "nbformat": 4,
 "nbformat_minor": 2
}
