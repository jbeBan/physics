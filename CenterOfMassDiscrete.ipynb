{
 "cells": [
  {
   "cell_type": "markdown",
   "metadata": {},
   "source": [
    "## Center of Mass (Discrete) 🎡"
   ]
  },
  {
   "cell_type": "code",
   "execution_count": 8,
   "metadata": {},
   "outputs": [
    {
     "name": "stdout",
     "output_type": "stream",
     "text": [
      "Center of Mass: 0.75i 1.0j 0.0k\n"
     ]
    }
   ],
   "source": [
    "from sympy import *\n",
    "from numpy import array as vec\n",
    "\n",
    "# Make output look nice\n",
    "init_printing()\n",
    "\n",
    "# List of Object Masses in sequential order\n",
    "# NOTE: First mass must match with first distance, etc.\n",
    "masses = [1.00, 1.00, 2.00]\n",
    "\n",
    "# List of Object Distances (vector form) in sequential order\n",
    "# NOTE: First distance must match with first mass, etc.\n",
    "distances = [ [1.0, 0.0, 0.0], [2.0, 0.0, 0.0], [0.0, 2.0, 0.0] ]\n",
    "\n",
    "# Compute Center of Mass\n",
    "total_mass = sum(masses)\n",
    "center_of_mass = vec([0.0, 0.0, 0.0])\n",
    "for i in range(len(masses)):\n",
    "    vector = masses[i]*vec(distances[i])\n",
    "    center_of_mass += vector\n",
    "\n",
    "center_of_mass /= total_mass\n",
    "\n",
    "# Display answer\n",
    "print(f\"Center of Mass: {center_of_mass[0]}i {center_of_mass[1]}j {center_of_mass[2]}k\")"
   ]
  },
  {
   "cell_type": "markdown",
   "metadata": {},
   "source": [
    "---"
   ]
  }
 ],
 "metadata": {
  "interpreter": {
   "hash": "765f0e6a717cdef1b96705705fe4f7f20bca40e4a56da864daf3394675fda3ca"
  },
  "kernelspec": {
   "display_name": "Python 3.9.6 64-bit",
   "name": "python3"
  },
  "language_info": {
   "codemirror_mode": {
    "name": "ipython",
    "version": 3
   },
   "file_extension": ".py",
   "mimetype": "text/x-python",
   "name": "python",
   "nbconvert_exporter": "python",
   "pygments_lexer": "ipython3",
   "version": "3.9.6"
  },
  "orig_nbformat": 4
 },
 "nbformat": 4,
 "nbformat_minor": 2
}
