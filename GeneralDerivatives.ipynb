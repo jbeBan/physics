{
 "cells": [
  {
   "cell_type": "markdown",
   "source": [
    "## General Derivatives ⚡"
   ],
   "metadata": {}
  },
  {
   "cell_type": "code",
   "execution_count": 1,
   "source": [
    "from sympy import *\r\n",
    "\r\n",
    "# Make output look nice\r\n",
    "init_printing()\r\n",
    "\r\n",
    "# Variable Declaration\r\n",
    "x = Symbol('x')\r\n",
    "\r\n",
    "# Your equation f in terms of x\r\n",
    "f = sin(5*x)\r\n",
    "\r\n",
    "# Compute general derivative of f(x)\r\n",
    "dfdx = diff(f)\r\n",
    "\r\n",
    "# Display original equation & answer\r\n",
    "{Derivative(f): dfdx}"
   ],
   "outputs": [
    {
     "output_type": "execute_result",
     "data": {
      "text/latex": [
       "$\\displaystyle \\left\\{ \\frac{d}{d x} \\sin{\\left(5 x \\right)} : 5 \\cos{\\left(5 x \\right)}\\right\\}$"
      ],
      "image/png": "[encoded data removed]",
      "text/plain": [
       "⎧d                       ⎫\n",
       "⎨──(sin(5⋅x)): 5⋅cos(5⋅x)⎬\n",
       "⎩dx                      ⎭"
      ]
     },
     "metadata": {},
     "execution_count": 1
    }
   ],
   "metadata": {}
  },
  {
   "cell_type": "markdown",
   "source": [
    "---"
   ],
   "metadata": {}
  }
 ],
 "metadata": {
  "kernelspec": {
   "name": "python3",
   "display_name": "Python 3.9.6 64-bit"
  },
  "language_info": {
   "name": "python",
   "version": "3.9.6",
   "mimetype": "text/x-python",
   "codemirror_mode": {
    "name": "ipython",
    "version": 3
   },
   "pygments_lexer": "ipython3",
   "nbconvert_exporter": "python",
   "file_extension": ".py"
  },
  "interpreter": {
   "hash": "765f0e6a717cdef1b96705705fe4f7f20bca40e4a56da864daf3394675fda3ca"
  }
 },
 "nbformat": 4,
 "nbformat_minor": 5
}