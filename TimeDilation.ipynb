{
 "cells": [
  {
   "cell_type": "markdown",
   "source": [
    "## Time Dilation ⏳"
   ],
   "metadata": {}
  },
  {
   "cell_type": "code",
   "execution_count": 28,
   "source": [
    "from sympy import *\r\n",
    "\r\n",
    "# Make output look nice\r\n",
    "init_printing()\r\n",
    "\r\n",
    "# Speed of Light\r\n",
    "c = 299792458\r\n",
    "\r\n",
    "# Variable Declaration\r\n",
    "v = 200000000\r\n",
    "delta_t = Symbol('t')\r\n",
    "delta_tau = 10\r\n",
    "\r\n",
    "# Lorentz Factor\r\n",
    "gamma = 1 / sqrt(1 - (v**2)/(c**2))\r\n",
    "\r\n",
    "# Time Dilation Equation\r\n",
    "f = Eq(gamma*delta_tau, delta_t)\r\n",
    "\r\n",
    "# Solve for variable\r\n",
    "solution = solve(f, delta_t)\r\n",
    "\r\n",
    "# Display answer for variable\r\n",
    "solution[0]"
   ],
   "outputs": [
    {
     "output_type": "execute_result",
     "data": {
      "text/latex": [
       "$\\displaystyle 13.4238470084142$"
      ],
      "image/png": "[encoded data removed]",
      "text/plain": [
       "13.4238470084142"
      ]
     },
     "metadata": {},
     "execution_count": 28
    }
   ],
   "metadata": {}
  },
  {
   "cell_type": "markdown",
   "source": [
    "---"
   ],
   "metadata": {}
  }
 ],
 "metadata": {
  "orig_nbformat": 4,
  "language_info": {
   "name": "python"
  }
 },
 "nbformat": 4,
 "nbformat_minor": 2
}