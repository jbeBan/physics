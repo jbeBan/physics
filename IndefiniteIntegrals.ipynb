{
 "cells": [
  {
   "cell_type": "markdown",
   "source": [
    "## Indefinite Integrals 📀"
   ],
   "metadata": {}
  },
  {
   "cell_type": "code",
   "execution_count": 7,
   "source": [
    "from sympy import *\r\n",
    "\r\n",
    "# Make output look nice\r\n",
    "init_printing()\r\n",
    "\r\n",
    "# Variable Declaration\r\n",
    "x = Symbol('x')\r\n",
    "\r\n",
    "# Your equation f in terms of x\r\n",
    "f = sin(x)\r\n",
    "\r\n",
    "# Compute indefinite integral of f(x)\r\n",
    "idx = integrate(f)\r\n",
    "\r\n",
    "# Display original equation & answer WITHOUT CONSTANT\r\n",
    "{Integral(f): idx}"
   ],
   "outputs": [
    {
     "output_type": "execute_result",
     "data": {
      "text/latex": [
       "$\\displaystyle \\left\\{ \\int x\\, dx : \\frac{x^{2}}{2}\\right\\}$"
      ],
      "image/png": "[encoded data removed]",
      "text/plain": [
       "⎧         2⎫\n",
       "⎪⌠       x ⎪\n",
       "⎨⎮ x dx: ──⎬\n",
       "⎪⌡       2 ⎪\n",
       "⎩          ⎭"
      ]
     },
     "metadata": {},
     "execution_count": 7
    }
   ],
   "metadata": {}
  },
  {
   "cell_type": "markdown",
   "source": [
    "---"
   ],
   "metadata": {}
  }
 ],
 "metadata": {
  "kernelspec": {
   "display_name": "Python 3 (ipykernel)",
   "language": "python",
   "name": "python3"
  },
  "language_info": {
   "name": "python",
   "version": "3.9.6",
   "mimetype": "text/x-python",
   "codemirror_mode": {
    "name": "ipython",
    "version": 3
   },
   "pygments_lexer": "ipython3",
   "nbconvert_exporter": "python",
   "file_extension": ".py"
  }
 },
 "nbformat": 4,
 "nbformat_minor": 5
}