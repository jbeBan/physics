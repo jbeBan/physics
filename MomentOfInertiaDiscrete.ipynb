{
 "cells": [
  {
   "cell_type": "markdown",
   "metadata": {},
   "source": [
    "## Moment of Inertia for System of Discrete Masses 📐"
   ]
  },
  {
   "cell_type": "code",
   "execution_count": 5,
   "metadata": {},
   "outputs": [
    {
     "name": "stdout",
     "output_type": "stream",
     "text": [
      "Moment of Inertia: 1.5î 0.0ĵ 0.0k̂\n"
     ]
    }
   ],
   "source": [
    "from sympy import *\n",
    "from numpy import array as vec\n",
    "\n",
    "# Make output look nice\n",
    "init_printing()\n",
    "\n",
    "# List of Object Masses in sequential order\n",
    "# NOTE: First mass must match with first distance, etc.\n",
    "masses = [2.0, 4.0]\n",
    "\n",
    "# List of Object Distances (vector form) in sequential order\n",
    "# NOTE: First distance must match with first mass, etc.\n",
    "distances = [ [0.5, 0.0, 0.0], [0.5, 0.0, 0.0] ]\n",
    "\n",
    "# Compute Center of Mass\n",
    "moment_of_inertia = vec([0.0, 0.0, 0.0])\n",
    "for i in range(len(masses)):\n",
    "    vector = masses[i]*(vec(distances[i])**2)\n",
    "    moment_of_inertia += vector\n",
    "\n",
    "# Display answer\n",
    "print(f\"Moment of Inertia: {moment_of_inertia[0]}î {moment_of_inertia[1]}ĵ {moment_of_inertia[2]}k̂\")"
   ]
  },
  {
   "cell_type": "markdown",
   "metadata": {},
   "source": [
    "---"
   ]
  }
 ],
 "metadata": {
  "interpreter": {
   "hash": "765f0e6a717cdef1b96705705fe4f7f20bca40e4a56da864daf3394675fda3ca"
  },
  "kernelspec": {
   "display_name": "Python 3.9.6 64-bit",
   "name": "python3"
  },
  "language_info": {
   "codemirror_mode": {
    "name": "ipython",
    "version": 3
   },
   "file_extension": ".py",
   "mimetype": "text/x-python",
   "name": "python",
   "nbconvert_exporter": "python",
   "pygments_lexer": "ipython3",
   "version": "3.9.6"
  },
  "orig_nbformat": 4
 },
 "nbformat": 4,
 "nbformat_minor": 2
}
