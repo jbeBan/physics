{
 "cells": [
  {
   "cell_type": "markdown",
   "source": [
    "## First Order Forward Finite Difference Method 🔃"
   ],
   "metadata": {}
  },
  {
   "cell_type": "code",
   "execution_count": 3,
   "source": [
    "from sympy import *\r\n",
    "\r\n",
    "# Variable Declaration\r\n",
    "t = Symbol('t')\r\n",
    "x = Symbol('x')\r\n",
    "# y = Symbol('y')\r\n",
    "\r\n",
    "# First order derivative of function\r\n",
    "dxdt = (x**2)*t - x + 0.5\r\n",
    "\r\n",
    "# Initial x & y value\r\n",
    "t_i = 0\r\n",
    "x_i = 2\r\n",
    "\r\n",
    "# Step size\r\n",
    "delta_t = 1\r\n",
    "\r\n",
    "# Final x value\r\n",
    "t_f = 3\r\n",
    "\r\n",
    "# Number of steps according to step size and final x value\r\n",
    "num_steps = int(t_f/delta_t)\r\n",
    "\r\n",
    "# Use iterative process to determine Numerical Solution\r\n",
    "for i in range(num_steps):\r\n",
    "    # y_i = y_i + (dydx.subs(y, y_i).subs(x, x_i))*delta_x\r\n",
    "    x_i = x_i + (dxdt.subs(x, x_i).subs(t, t_i))*delta_t\r\n",
    "    t_i = t_i + delta_t\r\n",
    "    \r\n",
    "# Display Numerical Solution\r\n",
    "print(f'Numerical Solution: {x_i}')"
   ],
   "outputs": [
    {
     "output_type": "stream",
     "name": "stdout",
     "text": [
      "Numerical Solution: 1.62500000000000\n"
     ]
    }
   ],
   "metadata": {}
  },
  {
   "cell_type": "markdown",
   "source": [
    "---"
   ],
   "metadata": {}
  }
 ],
 "metadata": {
  "kernelspec": {
   "name": "python3",
   "display_name": "Python 3.9.6 64-bit"
  },
  "language_info": {
   "name": "python",
   "version": "3.9.6",
   "mimetype": "text/x-python",
   "codemirror_mode": {
    "name": "ipython",
    "version": 3
   },
   "pygments_lexer": "ipython3",
   "nbconvert_exporter": "python",
   "file_extension": ".py"
  },
  "interpreter": {
   "hash": "765f0e6a717cdef1b96705705fe4f7f20bca40e4a56da864daf3394675fda3ca"
  }
 },
 "nbformat": 4,
 "nbformat_minor": 5
}