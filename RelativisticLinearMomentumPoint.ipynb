{
 "cells": [
  {
   "cell_type": "markdown",
   "metadata": {},
   "source": [
    "## Relativisitic Linear Momentum of Point Particle 🌠"
   ]
  },
  {
   "cell_type": "code",
   "execution_count": 6,
   "metadata": {},
   "outputs": [
    {
     "name": "stdout",
     "output_type": "stream",
     "text": [
      "Relativistic Linear Momentum: 297977174314.692 kg m/s\n"
     ]
    }
   ],
   "source": [
    "from sympy import *\n",
    "\n",
    "# Make output look nice\n",
    "init_printing()\n",
    "\n",
    "# Speed of Light\n",
    "c = 299792458\n",
    "\n",
    "# Variables\n",
    "m = 2000.0\n",
    "v = 200000000\n",
    "\n",
    "# Lorentz Factor\n",
    "gamma = sqrt(1 - (v / c)**2)\n",
    "\n",
    "# Compute Relativistic Linear Momentum of Point Particle\n",
    "p = gamma*m*v\n",
    "\n",
    "# Display answer\n",
    "print(f\"Relativistic Linear Momentum: {p} kg m/s\")"
   ]
  },
  {
   "cell_type": "markdown",
   "metadata": {},
   "source": [
    "---"
   ]
  }
 ],
 "metadata": {
  "interpreter": {
   "hash": "765f0e6a717cdef1b96705705fe4f7f20bca40e4a56da864daf3394675fda3ca"
  },
  "kernelspec": {
   "display_name": "Python 3.9.6 64-bit",
   "name": "python3"
  },
  "language_info": {
   "codemirror_mode": {
    "name": "ipython",
    "version": 3
   },
   "file_extension": ".py",
   "mimetype": "text/x-python",
   "name": "python",
   "nbconvert_exporter": "python",
   "pygments_lexer": "ipython3",
   "version": "3.9.6"
  },
  "orig_nbformat": 4
 },
 "nbformat": 4,
 "nbformat_minor": 2
}
