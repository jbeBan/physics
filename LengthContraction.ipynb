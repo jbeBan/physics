{
 "cells": [
  {
   "cell_type": "markdown",
   "source": [
    "## Length Contraction 📏"
   ],
   "metadata": {}
  },
  {
   "cell_type": "code",
   "execution_count": 1,
   "source": [
    "from sympy import *\r\n",
    "\r\n",
    "# Make output look nice\r\n",
    "init_printing()\r\n",
    "\r\n",
    "# Speed of Light\r\n",
    "c = 299792458\r\n",
    "\r\n",
    "# Variable Declaration\r\n",
    "v = 200000000\r\n",
    "L = Symbol('L')\r\n",
    "L_o = 10  # Proper length\r\n",
    "\r\n",
    "# Lorentz Factor\r\n",
    "gamma = 1 / sqrt(1 - (v**2)/(c**2))\r\n",
    "\r\n",
    "# Length Contraction Equation\r\n",
    "f = Eq(L_o/gamma, L)\r\n",
    "\r\n",
    "# Solve for variable\r\n",
    "solution = solve(f, L)\r\n",
    "\r\n",
    "# Display answer for variable\r\n",
    "solution[0]"
   ],
   "outputs": [
    {
     "output_type": "execute_result",
     "data": {
      "text/latex": [
       "$\\displaystyle 7.4494293578673$"
      ],
      "image/png": "[encoded data removed]",
      "text/plain": [
       "7.44942935786730"
      ]
     },
     "metadata": {},
     "execution_count": 1
    }
   ],
   "metadata": {}
  },
  {
   "cell_type": "markdown",
   "source": [
    "---"
   ],
   "metadata": {}
  }
 ],
 "metadata": {
  "orig_nbformat": 4,
  "language_info": {
   "name": "python",
   "version": "3.9.6",
   "mimetype": "text/x-python",
   "codemirror_mode": {
    "name": "ipython",
    "version": 3
   },
   "pygments_lexer": "ipython3",
   "nbconvert_exporter": "python",
   "file_extension": ".py"
  },
  "kernelspec": {
   "name": "python3",
   "display_name": "Python 3.9.6 64-bit"
  },
  "interpreter": {
   "hash": "765f0e6a717cdef1b96705705fe4f7f20bca40e4a56da864daf3394675fda3ca"
  }
 },
 "nbformat": 4,
 "nbformat_minor": 2
}