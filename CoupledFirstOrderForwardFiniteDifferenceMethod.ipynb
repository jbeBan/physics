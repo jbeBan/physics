{
 "cells": [
  {
   "cell_type": "markdown",
   "source": [
    "## Coupled First Order Forward Finite Difference Method 🎭"
   ],
   "metadata": {}
  },
  {
   "cell_type": "code",
   "execution_count": 5,
   "source": [
    "from sympy import *\r\n",
    "\r\n",
    "# Independent Variable\r\n",
    "t = Symbol('t')\r\n",
    "\r\n",
    "# First Dependent Variable\r\n",
    "v = Symbol('v')\r\n",
    "\r\n",
    "# Second Dependent Variable\r\n",
    "x = Symbol('x')\r\n",
    "\r\n",
    "# First Order Derivative of First Dependent Variable\r\n",
    "dvdt = 6*t\r\n",
    "\r\n",
    "# Initial values\r\n",
    "t_i = 0\r\n",
    "v_i = 2\r\n",
    "x_i = 1\r\n",
    "\r\n",
    "# Step size\r\n",
    "delta_t = 0.001\r\n",
    "\r\n",
    "# Final value of Independent Variable\r\n",
    "t_f = 3\r\n",
    "\r\n",
    "# Number of steps according to step size and final value of Independent Variable\r\n",
    "num_steps = int(t_f/delta_t)\r\n",
    "\r\n",
    "# Use Iterative Process to determine Numerical Solution\r\n",
    "for i in range(num_steps):\r\n",
    "    x_i = x_i + (v_i)*delta_t\r\n",
    "    v_i = v_i + (dvdt.subs(t, t_i))*delta_t\r\n",
    "    t_i = t_i + delta_t\r\n",
    "\r\n",
    "# Display Numerical Solution\r\n",
    "print(f'Numerical Solution: {x_i}')"
   ],
   "outputs": [
    {
     "output_type": "stream",
     "name": "stdout",
     "text": [
      "Numerical Solution: 33.9730059999991\n"
     ]
    }
   ],
   "metadata": {}
  },
  {
   "cell_type": "markdown",
   "source": [
    "---"
   ],
   "metadata": {}
  }
 ],
 "metadata": {
  "orig_nbformat": 4,
  "language_info": {
   "name": "python",
   "version": "3.9.6",
   "mimetype": "text/x-python",
   "codemirror_mode": {
    "name": "ipython",
    "version": 3
   },
   "pygments_lexer": "ipython3",
   "nbconvert_exporter": "python",
   "file_extension": ".py"
  },
  "kernelspec": {
   "name": "python3",
   "display_name": "Python 3.9.6 64-bit"
  },
  "interpreter": {
   "hash": "765f0e6a717cdef1b96705705fe4f7f20bca40e4a56da864daf3394675fda3ca"
  }
 },
 "nbformat": 4,
 "nbformat_minor": 2
}