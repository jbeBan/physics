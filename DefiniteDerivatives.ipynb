{
 "cells": [
  {
   "cell_type": "markdown",
   "id": "fc81fbc6-7ff4-4b5a-9a78-8482171be990",
   "metadata": {},
   "source": [
    "## Definite Derivatives 💱"
   ]
  },
  {
   "cell_type": "code",
   "execution_count": 1,
   "id": "b2998c66-cc07-4174-97ca-bc858b9f91cc",
   "metadata": {},
   "outputs": [
    {
     "data": {
      "image/png": "[encoded data removed]",
      "text/latex": [
       "$\\displaystyle \\left\\{ \\frac{d}{d x} \\left(4 x^{2} - 5 x\\right) : \\left[ a = 2.0, \\  11.0\\right]\\right\\}$"
      ],
      "text/plain": [
       "⎧d ⎛   2      ⎞                 ⎫\n",
       "⎨──⎝4⋅x  - 5⋅x⎠: [a = 2.0, 11.0]⎬\n",
       "⎩dx                             ⎭"
      ]
     },
     "execution_count": 1,
     "metadata": {},
     "output_type": "execute_result"
    }
   ],
   "source": [
    "from sympy import *\n",
    "\n",
    "# Make output look nice\n",
    "init_printing()\n",
    "\n",
    "# Variable Declaration\n",
    "x = Symbol('x')\n",
    "a = Symbol('a')\n",
    "\n",
    "# Your equation f in terms of x\n",
    "f = 4*x**2 -5*x\n",
    "\n",
    "# Value to evaluate derivative at\n",
    "a_val = 2.0\n",
    "\n",
    "# Compute derivative of f(x) at a_val\n",
    "dfdx = diff(f, x)\n",
    "dfda = dfdx.subs(x, a_val)\n",
    "\n",
    "# Display original equation, value of a, & answer evaluated at a_val\n",
    "{Derivative(f): [Eq(a, a_val), dfda]}"
   ]
  },
  {
   "cell_type": "markdown",
   "id": "e3de3d00-449d-4fe9-a5e2-f57045391f44",
   "metadata": {},
   "source": [
    "---"
   ]
  }
 ],
 "metadata": {
  "kernelspec": {
   "display_name": "Python 3 (ipykernel)",
   "language": "python",
   "name": "python3"
  },
  "language_info": {
   "codemirror_mode": {
    "name": "ipython",
    "version": 3
   },
   "file_extension": ".py",
   "mimetype": "text/x-python",
   "name": "python",
   "nbconvert_exporter": "python",
   "pygments_lexer": "ipython3",
   "version": "3.9.6"
  }
 },
 "nbformat": 4,
 "nbformat_minor": 5
}
