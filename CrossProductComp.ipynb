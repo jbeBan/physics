{
 "cells": [
  {
   "cell_type": "markdown",
   "metadata": {},
   "source": [
    "## Cross Product (Component Form) ✝"
   ]
  },
  {
   "cell_type": "code",
   "execution_count": 3,
   "metadata": {},
   "outputs": [
    {
     "name": "stdout",
     "output_type": "stream",
     "text": [
      "Cross product of [-0.5, 0.0, 2.0] x [0.0, 10.0, 0.0]: -20.0î 0.0ĵ -5.0k̂\n"
     ]
    }
   ],
   "source": [
    "from sympy import *\n",
    "\n",
    "# Make output look nice\n",
    "init_printing()\n",
    "\n",
    "# Vectors\n",
    "vec_one = [-0.50, 0.00, 2.00]\n",
    "vec_two = [0.00, 10.00, 0.00]\n",
    "\n",
    "# Vector Components\n",
    "a_x = vec_one[0]\n",
    "a_y = vec_one[1]\n",
    "a_z = vec_one[2]\n",
    "\n",
    "b_x = vec_two[0]\n",
    "b_y = vec_two[1]\n",
    "b_z = vec_two[2]\n",
    "\n",
    "# Calculate Cross Product\n",
    "cross_x = a_y*b_z - a_z*b_y\n",
    "cross_y = a_z*b_x - a_x*b_z\n",
    "cross_z = a_x*b_y - a_y*b_x\n",
    "\n",
    "cross_product = [cross_x, cross_y, cross_z]\n",
    "\n",
    "# Display answer\n",
    "print(f\"Cross product of {vec_one} x {vec_two}: {cross_product[0]}î {cross_product[1]}ĵ {cross_product[2]}k̂\")"
   ]
  },
  {
   "cell_type": "markdown",
   "metadata": {},
   "source": [
    "---"
   ]
  }
 ],
 "metadata": {
  "interpreter": {
   "hash": "765f0e6a717cdef1b96705705fe4f7f20bca40e4a56da864daf3394675fda3ca"
  },
  "kernelspec": {
   "display_name": "Python 3.9.6 64-bit",
   "name": "python3"
  },
  "language_info": {
   "codemirror_mode": {
    "name": "ipython",
    "version": 3
   },
   "file_extension": ".py",
   "mimetype": "text/x-python",
   "name": "python",
   "nbconvert_exporter": "python",
   "pygments_lexer": "ipython3",
   "version": "3.9.6"
  },
  "orig_nbformat": 4
 },
 "nbformat": 4,
 "nbformat_minor": 2
}
