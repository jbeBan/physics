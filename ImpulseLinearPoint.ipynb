{
 "cells": [
  {
   "cell_type": "markdown",
   "metadata": {},
   "source": [
    "## Impulse Linear of Point Particle 🏍"
   ]
  },
  {
   "cell_type": "code",
   "execution_count": 6,
   "metadata": {},
   "outputs": [
    {
     "name": "stdout",
     "output_type": "stream",
     "text": [
      "J = -40000.0î 0.0ĵ 0.0k̂\n"
     ]
    }
   ],
   "source": [
    "from sympy import *\n",
    "from numpy import array as vec\n",
    "\n",
    "# Make output look nice\n",
    "init_printing()\n",
    "\n",
    "# Mass of Object\n",
    "m = 2000.0\n",
    "\n",
    "# Initial Velocity\n",
    "v_i = vec([30.0, 0.0, 0.0])\n",
    "\n",
    "# Final Velocity\n",
    "v_f = vec([10.0, 0.0, 0.0])\n",
    "\n",
    "# Compute Linear Impulse of Object\n",
    "p = (m*v_f) - (m*v_i)\n",
    "\n",
    "# Display answer\n",
    "print(f\"J = {p[0]}î {p[1]}ĵ {p[2]}k̂\")"
   ]
  },
  {
   "cell_type": "markdown",
   "metadata": {},
   "source": [
    "---"
   ]
  }
 ],
 "metadata": {
  "interpreter": {
   "hash": "765f0e6a717cdef1b96705705fe4f7f20bca40e4a56da864daf3394675fda3ca"
  },
  "kernelspec": {
   "display_name": "Python 3.9.6 64-bit",
   "name": "python3"
  },
  "language_info": {
   "codemirror_mode": {
    "name": "ipython",
    "version": 3
   },
   "file_extension": ".py",
   "mimetype": "text/x-python",
   "name": "python",
   "nbconvert_exporter": "python",
   "pygments_lexer": "ipython3",
   "version": "3.9.6"
  },
  "orig_nbformat": 4
 },
 "nbformat": 4,
 "nbformat_minor": 2
}
