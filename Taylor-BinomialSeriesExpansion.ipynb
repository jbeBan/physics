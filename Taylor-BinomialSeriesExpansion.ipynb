{
 "cells": [
  {
   "cell_type": "markdown",
   "source": [
    "## Taylor/Binomial Series Expansion 🔀"
   ],
   "metadata": {}
  },
  {
   "cell_type": "code",
   "execution_count": 1,
   "source": [
    "from sympy import *\r\n",
    "\r\n",
    "# Make output look nice\r\n",
    "init_printing()\r\n",
    "\r\n",
    "# Variable Declaration\r\n",
    "x = Symbol('x')\r\n",
    "\r\n",
    "# Your equation f in terms of x\r\n",
    "f = 1/(sqrt(1-x**2))\r\n",
    "\r\n",
    "# Value to expand f around\r\n",
    "a = 0\r\n",
    "\r\n",
    "# Expand f up to n times\r\n",
    "n = 6\r\n",
    "\r\n",
    "# Perform Taylor Series Expansion & Display Polynomial along with Magnitude of Error\r\n",
    "# (THE ERROR DISPLAYED MAY BE INCORRECT, SINCE IT DOESN'T DETERMINE IF THE NEXT TERM\r\n",
    "#  IS NON-ZERO)\r\n",
    "series(f, x, a, n)"
   ],
   "outputs": [
    {
     "output_type": "execute_result",
     "data": {
      "text/latex": [
       "$\\displaystyle 1 + \\frac{x^{2}}{2} + \\frac{3 x^{4}}{8} + O\\left(x^{6}\\right)$"
      ],
      "image/png": "[encoded data removed]",
      "text/plain": [
       "     2      4        \n",
       "    x    3⋅x     ⎛ 6⎞\n",
       "1 + ── + ──── + O⎝x ⎠\n",
       "    2     8          "
      ]
     },
     "metadata": {},
     "execution_count": 1
    }
   ],
   "metadata": {}
  },
  {
   "cell_type": "markdown",
   "source": [
    "---"
   ],
   "metadata": {}
  }
 ],
 "metadata": {
  "orig_nbformat": 4,
  "language_info": {
   "name": "python",
   "version": "3.9.6",
   "mimetype": "text/x-python",
   "codemirror_mode": {
    "name": "ipython",
    "version": 3
   },
   "pygments_lexer": "ipython3",
   "nbconvert_exporter": "python",
   "file_extension": ".py"
  },
  "kernelspec": {
   "name": "python3",
   "display_name": "Python 3.9.6 64-bit"
  },
  "interpreter": {
   "hash": "765f0e6a717cdef1b96705705fe4f7f20bca40e4a56da864daf3394675fda3ca"
  }
 },
 "nbformat": 4,
 "nbformat_minor": 2
}