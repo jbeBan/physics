{
 "cells": [
  {
   "cell_type": "markdown",
   "metadata": {},
   "source": [
    "## 3 Dimensional Mass (Cylinder)"
   ]
  },
  {
   "cell_type": "code",
   "execution_count": 2,
   "metadata": {},
   "outputs": [
    {
     "data": {
      "image/png": "[encoded data removed]",
      "text/latex": [
       "$\\displaystyle \\left\\{ \\int\\limits_{0}^{0.3} 9.98 \\pi h^{2}\\, dh : 0.08982 \\pi\\right\\}$"
      ],
      "text/plain": [
       "⎧0.3                        ⎫\n",
       "⎪ ⌠                         ⎪\n",
       "⎪ ⎮          2              ⎪\n",
       "⎨ ⎮  9.98⋅π⋅h  dh: 0.08982⋅π⎬\n",
       "⎪ ⌡                         ⎪\n",
       "⎪ 0                         ⎪\n",
       "⎩                           ⎭"
      ]
     },
     "execution_count": 2,
     "metadata": {},
     "output_type": "execute_result"
    }
   ],
   "source": [
    "from sympy import *\n",
    "\n",
    "# Make output look nice\n",
    "init_printing()\n",
    "\n",
    "# Variable Declaration\n",
    "h = Symbol('h')\n",
    "H = 0.30\n",
    "R = 0.030\n",
    "r = R\n",
    "dV = pi*(r**2)\n",
    "\n",
    "# Volume Mass Density Equation\n",
    "rho_of_h = (998.0)*((h/H)**2)*dV\n",
    "\n",
    "# Limits of integration\n",
    "a = 0\n",
    "b = H\n",
    "\n",
    "# Compute mass of object over the specified interval (a to b)\n",
    "mass = integrate(rho_of_h, (h, a, b))\n",
    "\n",
    "# Display original equation and answer\n",
    "{Integral(rho_of_h, (h, a, b)): mass}"
   ]
  },
  {
   "cell_type": "markdown",
   "metadata": {},
   "source": [
    "---"
   ]
  }
 ],
 "metadata": {
  "interpreter": {
   "hash": "765f0e6a717cdef1b96705705fe4f7f20bca40e4a56da864daf3394675fda3ca"
  },
  "kernelspec": {
   "display_name": "Python 3.9.6 64-bit",
   "name": "python3"
  },
  "language_info": {
   "codemirror_mode": {
    "name": "ipython",
    "version": 3
   },
   "file_extension": ".py",
   "mimetype": "text/x-python",
   "name": "python",
   "nbconvert_exporter": "python",
   "pygments_lexer": "ipython3",
   "version": "3.9.6"
  },
  "orig_nbformat": 4
 },
 "nbformat": 4,
 "nbformat_minor": 2
}
