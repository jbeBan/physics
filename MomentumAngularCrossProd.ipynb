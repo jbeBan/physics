{
 "cells": [
  {
   "cell_type": "markdown",
   "metadata": {},
   "source": [
    "## Momentum Angular (Orbital) by Cross Product ❌"
   ]
  },
  {
   "cell_type": "code",
   "execution_count": 4,
   "metadata": {},
   "outputs": [
    {
     "name": "stdout",
     "output_type": "stream",
     "text": [
      "l = -0.0î 0.0ĵ 11.0k̂\n"
     ]
    }
   ],
   "source": [
    "from sympy import *\n",
    "from numpy import array as vec\n",
    "\n",
    "# Make output look nice\n",
    "init_printing()\n",
    "\n",
    "# Function Definition to Compute Cross Product\n",
    "def cross_prod(vec_one, vec_two):\n",
    "    # Vector Components\n",
    "    a_x = vec_one[0]\n",
    "    a_y = vec_one[1]\n",
    "    a_z = vec_one[2]\n",
    "\n",
    "    b_x = vec_two[0]\n",
    "    b_y = vec_two[1]\n",
    "    b_z = vec_two[2]\n",
    "\n",
    "    # Calculate Cross Product\n",
    "    cross_x = a_y*b_z - a_z*b_y\n",
    "    cross_y = a_z*b_x - a_x*b_z\n",
    "    cross_z = a_x*b_y - a_y*b_x\n",
    "\n",
    "    return vec([cross_x, cross_y, cross_z])\n",
    "\n",
    "# ----------------------------------------------\n",
    "\n",
    "# Mass of Object\n",
    "m = 2.0\n",
    "\n",
    "# Tangential Velocity (vector form)\n",
    "v = [2.0, 1.5, 0.0]\n",
    "\n",
    "# Vector from Point of Interest to Orbiting Object\n",
    "r_poi = [1.0, -2.0, 0.0]\n",
    "\n",
    "# Compute Angular Momentum (Orbital) of Object\n",
    "l = m*cross_prod(r_poi, v)\n",
    "\n",
    "# Display answer\n",
    "print(f\"l = {l[0]}î {l[1]}ĵ {l[2]}k̂\")"
   ]
  },
  {
   "cell_type": "markdown",
   "metadata": {},
   "source": [
    "---"
   ]
  }
 ],
 "metadata": {
  "interpreter": {
   "hash": "765f0e6a717cdef1b96705705fe4f7f20bca40e4a56da864daf3394675fda3ca"
  },
  "kernelspec": {
   "display_name": "Python 3.9.6 64-bit",
   "name": "python3"
  },
  "language_info": {
   "codemirror_mode": {
    "name": "ipython",
    "version": 3
   },
   "file_extension": ".py",
   "mimetype": "text/x-python",
   "name": "python",
   "nbconvert_exporter": "python",
   "pygments_lexer": "ipython3",
   "version": "3.9.6"
  },
  "orig_nbformat": 4
 },
 "nbformat": 4,
 "nbformat_minor": 2
}
