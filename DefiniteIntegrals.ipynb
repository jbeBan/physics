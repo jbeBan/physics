{
 "cells": [
  {
   "cell_type": "markdown",
   "id": "1edb7de3-c3d6-4462-8c2f-a44ea73f0245",
   "metadata": {},
   "source": [
    "## Definite Integrals 💽"
   ]
  },
  {
   "cell_type": "code",
   "execution_count": 1,
   "id": "eafeec66-0783-4410-88b0-a141054d0a9a",
   "metadata": {},
   "outputs": [
    {
     "data": {
      "image/png": "[encoded data removed]",
      "text/latex": [
       "$\\displaystyle \\left\\{ \\int\\limits_{1}^{3} \\left(5 x^{3} - 4 x^{2} + 5\\right)\\, dx : \\frac{226}{3}\\right\\}$"
      ],
      "text/plain": [
       "⎧3                            ⎫\n",
       "⎪⌠                            ⎪\n",
       "⎪⎮ ⎛   3      2    ⎞          ⎪\n",
       "⎨⎮ ⎝5⋅x  - 4⋅x  + 5⎠ dx: 226/3⎬\n",
       "⎪⌡                            ⎪\n",
       "⎪1                            ⎪\n",
       "⎩                             ⎭"
      ]
     },
     "execution_count": 1,
     "metadata": {},
     "output_type": "execute_result"
    }
   ],
   "source": [
    "from sympy import *\n",
    "\n",
    "# Make output look nice\n",
    "init_printing()\n",
    "\n",
    "# Variable Declaration\n",
    "x = Symbol('x')\n",
    "\n",
    "# Your equation f in terms of x\n",
    "f = 5*x**3 - 4*x**2 + 5\n",
    "\n",
    "# Limits of integration\n",
    "a = 1\n",
    "b = 3\n",
    "\n",
    "# Compute definite integral of f(x)\n",
    "def_idx = integrate(f, (x, a, b))\n",
    "\n",
    "# Display original equation & answer\n",
    "{Integral(f, (x, a, b)): def_idx}"
   ]
  },
  {
   "cell_type": "markdown",
   "id": "a88fab64-af65-4160-a1d3-c6efd3bee203",
   "metadata": {},
   "source": [
    "---"
   ]
  }
 ],
 "metadata": {
  "kernelspec": {
   "display_name": "Python 3 (ipykernel)",
   "language": "python",
   "name": "python3"
  },
  "language_info": {
   "codemirror_mode": {
    "name": "ipython",
    "version": 3
   },
   "file_extension": ".py",
   "mimetype": "text/x-python",
   "name": "python",
   "nbconvert_exporter": "python",
   "pygments_lexer": "ipython3",
   "version": "3.9.6"
  }
 },
 "nbformat": 4,
 "nbformat_minor": 5
}
