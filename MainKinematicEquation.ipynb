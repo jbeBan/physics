{
 "cells": [
  {
   "cell_type": "markdown",
   "id": "17fa371c-c1ca-4a40-ad47-2ce077ef621e",
   "metadata": {},
   "source": [
    "## Main Kinematic Equation"
   ]
  },
  {
   "cell_type": "code",
   "execution_count": 6,
   "id": "5b101725-c2d1-42e4-9956-1ca2d962eb55",
   "metadata": {},
   "outputs": [
    {
     "data": {
      "image/png": "[encoded data removed]",
      "text/latex": [
       "$\\displaystyle \\left[ -12.4\\right]$"
      ],
      "text/plain": [
       "[-12.4]"
      ]
     },
     "execution_count": 6,
     "metadata": {},
     "output_type": "execute_result"
    }
   ],
   "source": [
    "from sympy import fraction as frac\n",
    "from sympy import *\n",
    "\n",
    "# Make output look nice\n",
    "init_printing()\n",
    "\n",
    "# Value of variables\n",
    "p_f = 10\n",
    "p_i = 5\n",
    "v = Symbol('v')\n",
    "a = 0.5\n",
    "t = 50\n",
    "\n",
    "# Kinematic Equation in terms of t\n",
    "kin_eq = Eq(p_i + v*t + frac(1/2)*a*t**2, p_f)\n",
    "\n",
    "# Solve for kinematic eq\n",
    "solution = solve(kin_eq)\n",
    "\n",
    "# Display answer for respective unkown\n",
    "solution"
   ]
  },
  {
   "cell_type": "code",
   "execution_count": null,
   "id": "ff88d593-0445-4178-88bf-084b9fe79571",
   "metadata": {},
   "outputs": [],
   "source": []
  }
 ],
 "metadata": {
  "kernelspec": {
   "display_name": "Python 3 (ipykernel)",
   "language": "python",
   "name": "python3"
  },
  "language_info": {
   "codemirror_mode": {
    "name": "ipython",
    "version": 3
   },
   "file_extension": ".py",
   "mimetype": "text/x-python",
   "name": "python",
   "nbconvert_exporter": "python",
   "pygments_lexer": "ipython3",
   "version": "3.9.6"
  }
 },
 "nbformat": 4,
 "nbformat_minor": 5
}
