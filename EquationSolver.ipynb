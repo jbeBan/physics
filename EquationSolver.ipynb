{
 "cells": [
  {
   "cell_type": "markdown",
   "id": "fa582939-a2ed-4114-bdce-9256bd042256",
   "metadata": {},
   "source": [
    "## Equation Solver 🔌"
   ]
  },
  {
   "cell_type": "code",
   "execution_count": 4,
   "id": "da8d4808-85de-4f34-ac4a-fe2008953626",
   "metadata": {},
   "outputs": [
    {
     "data": {
      "image/png": "[encoded data removed]",
      "text/latex": [
       "$\\displaystyle \\left\\{ x : \\left( 1, \\  1\\right), \\  y : \\left( \\left(- \\frac{1}{2} - \\frac{\\sqrt{3} i}{2}\\right)^{2}, \\  - \\frac{1}{2} - \\frac{\\sqrt{3} i}{2}\\right), \\  \\frac{x^{2}}{y} = 1 : \\frac{y^{2}}{x} = 1\\right\\}$"
      ],
      "text/plain": [
       "⎧              ⎛            2            ⎞   2       2    ⎫\n",
       "⎪              ⎜⎛  1   √3⋅ⅈ⎞     1   √3⋅ⅈ⎟  x       y     ⎪\n",
       "⎨x: (1, 1), y: ⎜⎜- ─ - ────⎟ , - ─ - ────⎟, ── = 1: ── = 1⎬\n",
       "⎪              ⎝⎝  2    2  ⎠     2    2  ⎠  y       x     ⎪\n",
       "⎩                                                         ⎭"
      ]
     },
     "execution_count": 4,
     "metadata": {},
     "output_type": "execute_result"
    }
   ],
   "source": [
    "from sympy import *\n",
    "\n",
    "# Make output look nice\n",
    "init_printing()\n",
    "\n",
    "# Variable Declaration\n",
    "x = Symbol('x')\n",
    "y = Symbol('y')\n",
    "\n",
    "# Your equation(s)\n",
    "f = Eq((x**2)/y, 1)\n",
    "g = Eq((y**2)/x, 1)\n",
    "\n",
    "# Solve for variable(s)\n",
    "solutions = solve([f, g], (x, y))\n",
    "\n",
    "# Display answer(s) for variable(s) & original equation(s)\n",
    "{x: solutions[0], y: solutions[1], f: g}"
   ]
  },
  {
   "cell_type": "markdown",
   "id": "ee438004-153d-464c-a173-298ed8dfa2e5",
   "metadata": {},
   "source": [
    "---"
   ]
  }
 ],
 "metadata": {
  "kernelspec": {
   "display_name": "Python 3 (ipykernel)",
   "language": "python",
   "name": "python3"
  },
  "language_info": {
   "codemirror_mode": {
    "name": "ipython",
    "version": 3
   },
   "file_extension": ".py",
   "mimetype": "text/x-python",
   "name": "python",
   "nbconvert_exporter": "python",
   "pygments_lexer": "ipython3",
   "version": "3.9.6"
  }
 },
 "nbformat": 4,
 "nbformat_minor": 5
}
