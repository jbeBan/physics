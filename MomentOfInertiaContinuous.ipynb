{
 "cells": [
  {
   "cell_type": "markdown",
   "metadata": {},
   "source": [
    "## Moment of Inertia Continuous 🎱\n",
    "\n",
    "*__NOTE__: This file requires images from the **images** folder*"
   ]
  },
  {
   "cell_type": "markdown",
   "metadata": {},
   "source": [
    "<div align=\"center\">\n",
    "  <img src=\"images/img1.png\">\n",
    "</div>"
   ]
  },
  {
   "cell_type": "code",
   "execution_count": 5,
   "metadata": {},
   "outputs": [
    {
     "name": "stdout",
     "output_type": "stream",
     "text": [
      "Moment of Inertia: 83.33333333333333 kg m^2\n"
     ]
    }
   ],
   "source": [
    "from sympy import *\n",
    "\n",
    "# Make output look nice\n",
    "init_printing()\n",
    "\n",
    "# Variables\n",
    "M = 10.0\n",
    "L = 10.0\n",
    "\n",
    "# Compute Moment of Inertia\n",
    "moment_of_inertia = (1/12)*M*(L**2)\n",
    "\n",
    "# Display Moment of Inertia\n",
    "print(f\"Moment of Inertia: {moment_of_inertia} kg m^2\")"
   ]
  },
  {
   "cell_type": "markdown",
   "metadata": {},
   "source": [
    "---"
   ]
  },
  {
   "cell_type": "markdown",
   "metadata": {},
   "source": [
    "<div align=\"center\">\n",
    "  <img src=\"images/img2.png\">\n",
    "</div>"
   ]
  },
  {
   "cell_type": "code",
   "execution_count": 6,
   "metadata": {},
   "outputs": [
    {
     "name": "stdout",
     "output_type": "stream",
     "text": [
      "Moment of Inertia: 333.3333333333333 kg m^2\n"
     ]
    }
   ],
   "source": [
    "from sympy import *\n",
    "\n",
    "# Make output look nice\n",
    "init_printing()\n",
    "\n",
    "# Variables\n",
    "M = 10.0\n",
    "L = 10.0\n",
    "\n",
    "# Compute Moment of Inertia\n",
    "moment_of_inertia = (1/3)*M*(L**2)\n",
    "\n",
    "# Display Moment of Inertia\n",
    "print(f\"Moment of Inertia: {moment_of_inertia} kg m^2\")"
   ]
  },
  {
   "cell_type": "markdown",
   "metadata": {},
   "source": [
    "---"
   ]
  },
  {
   "cell_type": "markdown",
   "metadata": {},
   "source": [
    "<div align=\"center\">\n",
    "  <img src=\"images/img3.png\">\n",
    "</div>"
   ]
  },
  {
   "cell_type": "code",
   "execution_count": 7,
   "metadata": {},
   "outputs": [
    {
     "name": "stdout",
     "output_type": "stream",
     "text": [
      "Moment of Inertia: 354.16666666666663 kg m^2\n"
     ]
    }
   ],
   "source": [
    "from sympy import *\n",
    "\n",
    "# Make output look nice\n",
    "init_printing()\n",
    "\n",
    "# Variables\n",
    "M = 10.0\n",
    "a = 5.0\n",
    "b = 20.0\n",
    "\n",
    "# Compute Moment of Inertia\n",
    "moment_of_inertia = (1/12)*M*(a**2 + b**2)\n",
    "\n",
    "# Display Moment of Inertia\n",
    "print(f\"Moment of Inertia: {moment_of_inertia} kg m^2\")"
   ]
  },
  {
   "cell_type": "markdown",
   "metadata": {},
   "source": [
    "---"
   ]
  },
  {
   "cell_type": "markdown",
   "metadata": {},
   "source": [
    "<div align=\"center\">\n",
    "  <img src=\"images/img4.png\">\n",
    "</div>"
   ]
  },
  {
   "cell_type": "code",
   "execution_count": null,
   "metadata": {},
   "outputs": [],
   "source": [
    "from sympy import *\n",
    "\n",
    "# Make output look nice\n",
    "init_printing()\n",
    "\n",
    "# Variables\n",
    "M = 10.0\n",
    "a = 5.0\n",
    "\n",
    "# Compute Moment of Inertia\n",
    "moment_of_inertia = (1/3)*M*(a**2)\n",
    "\n",
    "# Display Moment of Inertia\n",
    "print(f\"Moment of Inertia: {moment_of_inertia} kg m^2\")"
   ]
  },
  {
   "cell_type": "markdown",
   "metadata": {},
   "source": [
    "---"
   ]
  },
  {
   "cell_type": "markdown",
   "metadata": {},
   "source": [
    "<div align=\"center\">\n",
    "  <img src=\"images/img5.png\">\n",
    "</div>"
   ]
  },
  {
   "cell_type": "code",
   "execution_count": 8,
   "metadata": {},
   "outputs": [
    {
     "name": "stdout",
     "output_type": "stream",
     "text": [
      "Moment of Inertia: 1625.0 kg m^2\n"
     ]
    }
   ],
   "source": [
    "from sympy import *\n",
    "\n",
    "# Make output look nice\n",
    "init_printing()\n",
    "\n",
    "# Variables\n",
    "M = 10.0\n",
    "R_1 = 10.0\n",
    "R_2 = 15.0\n",
    "\n",
    "# Compute Moment of Inertia\n",
    "moment_of_inertia = (1/2)*M*(R_1**2 + R_2**2)\n",
    "\n",
    "# Display Moment of Inertia\n",
    "print(f\"Moment of Inertia: {moment_of_inertia} kg m^2\")"
   ]
  },
  {
   "cell_type": "markdown",
   "metadata": {},
   "source": [
    "---"
   ]
  },
  {
   "cell_type": "markdown",
   "metadata": {},
   "source": [
    "<div align=\"center\">\n",
    "  <img src=\"images/img6.png\">\n",
    "</div>"
   ]
  },
  {
   "cell_type": "code",
   "execution_count": 9,
   "metadata": {},
   "outputs": [
    {
     "name": "stdout",
     "output_type": "stream",
     "text": [
      "Moment of Inertia: 500.0 kg m^2\n"
     ]
    }
   ],
   "source": [
    "from sympy import *\n",
    "\n",
    "# Make output look nice\n",
    "init_printing()\n",
    "\n",
    "# Variables\n",
    "M = 10.0\n",
    "R = 10.0\n",
    "\n",
    "# Compute Moment of Inertia\n",
    "moment_of_inertia = (1/2)*M*(R**2)\n",
    "\n",
    "# Display Moment of Inertia\n",
    "print(f\"Moment of Inertia: {moment_of_inertia} kg m^2\")"
   ]
  },
  {
   "cell_type": "markdown",
   "metadata": {},
   "source": [
    "---"
   ]
  },
  {
   "cell_type": "markdown",
   "metadata": {},
   "source": [
    "<div align=\"center\">\n",
    "  <img src=\"images/img7.png\">\n",
    "</div>"
   ]
  },
  {
   "cell_type": "code",
   "execution_count": 10,
   "metadata": {},
   "outputs": [
    {
     "name": "stdout",
     "output_type": "stream",
     "text": [
      "Moment of Inertia: 1000.0 kg m^2\n"
     ]
    }
   ],
   "source": [
    "from sympy import *\n",
    "\n",
    "# Make output look nice\n",
    "init_printing()\n",
    "\n",
    "# Variables\n",
    "M = 10.0\n",
    "R = 10.0\n",
    "\n",
    "# Compute Moment of Inertia\n",
    "moment_of_inertia = M*(R**2)\n",
    "\n",
    "# Display Moment of Inertia\n",
    "print(f\"Moment of Inertia: {moment_of_inertia} kg m^2\")"
   ]
  },
  {
   "cell_type": "markdown",
   "metadata": {},
   "source": [
    "---"
   ]
  },
  {
   "cell_type": "markdown",
   "metadata": {},
   "source": [
    "<div align=\"center\">\n",
    "  <img src=\"images/img8.png\">\n",
    "</div>"
   ]
  },
  {
   "cell_type": "code",
   "execution_count": 11,
   "metadata": {},
   "outputs": [
    {
     "name": "stdout",
     "output_type": "stream",
     "text": [
      "Moment of Inertia: 400.0 kg m^2\n"
     ]
    }
   ],
   "source": [
    "from sympy import *\n",
    "\n",
    "# Make output look nice\n",
    "init_printing()\n",
    "\n",
    "# Variables\n",
    "M = 10.0\n",
    "R = 10.0\n",
    "\n",
    "# Compute Moment of Inertia\n",
    "moment_of_inertia = (2/5)*M*(R**2)\n",
    "\n",
    "# Display Moment of Inertia\n",
    "print(f\"Moment of Inertia: {moment_of_inertia} kg m^2\")"
   ]
  },
  {
   "cell_type": "markdown",
   "metadata": {},
   "source": [
    "---"
   ]
  },
  {
   "cell_type": "markdown",
   "metadata": {},
   "source": [
    "<div align=\"center\">\n",
    "  <img src=\"images/img9.png\">\n",
    "</div>"
   ]
  },
  {
   "cell_type": "code",
   "execution_count": 12,
   "metadata": {},
   "outputs": [
    {
     "name": "stdout",
     "output_type": "stream",
     "text": [
      "Moment of Inertia: 666.6666666666666 kg m^2\n"
     ]
    }
   ],
   "source": [
    "from sympy import *\n",
    "\n",
    "# Make output look nice\n",
    "init_printing()\n",
    "\n",
    "# Variables\n",
    "M = 10.0\n",
    "R = 10.0\n",
    "\n",
    "# Compute Moment of Inertia\n",
    "moment_of_inertia = (2/3)*M*(R**2)\n",
    "\n",
    "# Display Moment of Inertia\n",
    "print(f\"Moment of Inertia: {moment_of_inertia} kg m^2\")"
   ]
  },
  {
   "cell_type": "markdown",
   "metadata": {},
   "source": [
    "---"
   ]
  },
  {
   "cell_type": "markdown",
   "metadata": {},
   "source": [
    "<div align=\"center\">\n",
    "  <img src=\"images/img10.png\">\n",
    "</div>"
   ]
  },
  {
   "cell_type": "code",
   "execution_count": 13,
   "metadata": {},
   "outputs": [
    {
     "name": "stdout",
     "output_type": "stream",
     "text": [
      "Moment of Inertia: 583.3333333333333 kg m^2\n"
     ]
    }
   ],
   "source": [
    "from sympy import *\n",
    "\n",
    "# Make output look nice\n",
    "init_printing()\n",
    "\n",
    "# Variables\n",
    "M = 10.0\n",
    "R = 10.0\n",
    "L = 20.0\n",
    "\n",
    "# Compute Moment of Inertia\n",
    "moment_of_inertia = (1/4)*M*(R**2) + (1/12)*M*(L**2)\n",
    "\n",
    "# Display Moment of Inertia\n",
    "print(f\"Moment of Inertia: {moment_of_inertia} kg m^2\")"
   ]
  },
  {
   "cell_type": "markdown",
   "metadata": {},
   "source": [
    "---"
   ]
  },
  {
   "cell_type": "markdown",
   "metadata": {},
   "source": [
    "<div align=\"center\">\n",
    "  <img src=\"images/img11.png\">\n",
    "</div>"
   ]
  },
  {
   "cell_type": "code",
   "execution_count": 14,
   "metadata": {},
   "outputs": [
    {
     "name": "stdout",
     "output_type": "stream",
     "text": [
      "Moment of Inertia: 500.0 kg m^2\n"
     ]
    }
   ],
   "source": [
    "from sympy import *\n",
    "\n",
    "# Make output look nice\n",
    "init_printing()\n",
    "\n",
    "# Variables\n",
    "M = 10.0\n",
    "R = 10.0\n",
    "\n",
    "# Compute Moment of Inertia\n",
    "moment_of_inertia = (1/2)*M*(R**2)\n",
    "\n",
    "# Display Moment of Inertia\n",
    "print(f\"Moment of Inertia: {moment_of_inertia} kg m^2\")"
   ]
  },
  {
   "cell_type": "markdown",
   "metadata": {},
   "source": [
    "---"
   ]
  }
 ],
 "metadata": {
  "interpreter": {
   "hash": "765f0e6a717cdef1b96705705fe4f7f20bca40e4a56da864daf3394675fda3ca"
  },
  "kernelspec": {
   "display_name": "Python 3.9.6 64-bit",
   "name": "python3"
  },
  "language_info": {
   "codemirror_mode": {
    "name": "ipython",
    "version": 3
   },
   "file_extension": ".py",
   "mimetype": "text/x-python",
   "name": "python",
   "nbconvert_exporter": "python",
   "pygments_lexer": "ipython3",
   "version": "3.9.6"
  },
  "orig_nbformat": 4
 },
 "nbformat": 4,
 "nbformat_minor": 2
}
