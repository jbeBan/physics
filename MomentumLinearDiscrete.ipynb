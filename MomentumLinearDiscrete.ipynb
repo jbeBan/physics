{
 "cells": [
  {
   "cell_type": "markdown",
   "metadata": {},
   "source": [
    "## Momentum Linear of System of Discrete Objects ⬇ ⬆"
   ]
  },
  {
   "cell_type": "code",
   "execution_count": 3,
   "metadata": {},
   "outputs": [
    {
     "name": "stdout",
     "output_type": "stream",
     "text": [
      "P = 16.0î -16.0ĵ 0.0k̂\n"
     ]
    }
   ],
   "source": [
    "from sympy import *\n",
    "from numpy import array as vec\n",
    "\n",
    "# Make output look nice\n",
    "init_printing()\n",
    "\n",
    "# List of Object Masses in sequential order\n",
    "# NOTE: First mass must match with first distance, etc.\n",
    "masses = [2.0, 4.0]\n",
    "\n",
    "# List of Object Velocities (vector form) in sequential order\n",
    "# NOTE: First velocity must match with first mass, etc.\n",
    "velocities = [ [8.0, 0.0, 0.0], [0.0, -4.0, 0.0] ]\n",
    "\n",
    "# Compute Linear Momentum of system\n",
    "P = vec([0.0, 0.0, 0.0])\n",
    "for i in range(len(masses)):\n",
    "    P += masses[i]*vec(velocities[i])\n",
    "\n",
    "# Display answer\n",
    "print(f\"P = {P[0]}î {P[1]}ĵ {P[2]}k̂\")"
   ]
  },
  {
   "cell_type": "markdown",
   "metadata": {},
   "source": [
    "---"
   ]
  }
 ],
 "metadata": {
  "interpreter": {
   "hash": "765f0e6a717cdef1b96705705fe4f7f20bca40e4a56da864daf3394675fda3ca"
  },
  "kernelspec": {
   "display_name": "Python 3.9.6 64-bit",
   "name": "python3"
  },
  "language_info": {
   "codemirror_mode": {
    "name": "ipython",
    "version": 3
   },
   "file_extension": ".py",
   "mimetype": "text/x-python",
   "name": "python",
   "nbconvert_exporter": "python",
   "pygments_lexer": "ipython3",
   "version": "3.9.6"
  },
  "orig_nbformat": 4
 },
 "nbformat": 4,
 "nbformat_minor": 2
}
