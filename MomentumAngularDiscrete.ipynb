{
 "cells": [
  {
   "cell_type": "markdown",
   "metadata": {},
   "source": [
    "## Momentum Angular of System of Discrete Objects 💫"
   ]
  },
  {
   "cell_type": "code",
   "execution_count": 4,
   "metadata": {},
   "outputs": [
    {
     "name": "stdout",
     "output_type": "stream",
     "text": [
      "L = 0.0033250000000000007 kg m^2/s\n"
     ]
    }
   ],
   "source": [
    "from sympy import *\n",
    "from numpy import array as vec\n",
    "\n",
    "# Make output look nice\n",
    "init_printing()\n",
    "\n",
    "# List of Object Masses in sequential order\n",
    "# NOTE: First mass must match with first distance, etc.\n",
    "masses = [1.0, 0.25]\n",
    "\n",
    "# List of Object Distances (vector form) in sequential order\n",
    "# NOTE: First distance must match with first mass, etc.\n",
    "distances = [0.01, 0.05]\n",
    "\n",
    "# List of Object Angular Velocities in sequential order\n",
    "# NOTE: First angular velocity must match with first mass, etc.\n",
    "omegas = [2.0, 5.0]\n",
    "\n",
    "# Compute Angular Momentum of system\n",
    "L = 0\n",
    "for i in range(len(masses)):\n",
    "    L += masses[i]*(distances[i]**2)*omegas[i]\n",
    "\n",
    "# Display answer\n",
    "print(f\"L = {L} kg m^2/s\")"
   ]
  },
  {
   "cell_type": "markdown",
   "metadata": {},
   "source": [
    "---"
   ]
  }
 ],
 "metadata": {
  "interpreter": {
   "hash": "765f0e6a717cdef1b96705705fe4f7f20bca40e4a56da864daf3394675fda3ca"
  },
  "kernelspec": {
   "display_name": "Python 3.9.6 64-bit",
   "name": "python3"
  },
  "language_info": {
   "name": "python",
   "version": "3.9.6"
  },
  "orig_nbformat": 4
 },
 "nbformat": 4,
 "nbformat_minor": 2
}
